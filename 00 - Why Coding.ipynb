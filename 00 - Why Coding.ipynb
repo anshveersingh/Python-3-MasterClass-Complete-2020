{
 "cells": [
  {
   "cell_type": "markdown",
   "metadata": {},
   "source": [
    "# 00 - Why Coding\n",
    "\n",
    "Hi! I am @anshveersingh and welcome to the complete python course! This course is for everyone and is free. So, this is a bootcamp for Python 3. But first, ask yourself, why do you want to code? All are doing? Or just increasing your knowledge? Or just want to start a career in computer science programming? Ah, once you know that, you are ready to go.\n",
    "\n",
    "## 1. What is Coding? \n",
    "\n",
    "Coding is just telling a computer what to do! Ah, you may be saying this is an easy work, but no, this consists of a whole new universe! There are three types of programming languages - \n",
    "\n",
    "1. Low - Level Programming languages: They are programming languages but are machine readable, like --> 0x001\\n0x002\\n0x003 or 01001001001000100100100010100100010101001010100.  \n",
    "2. Middle - Level - Programming languages: They are middle levelled, as the word pronounces. Like - C: See the following code: printf(\"Hello World!\"); You can read this, and it also can be used for machines.\n",
    "3. High - Level - Programming languages: They are human - readable, means they are just like giving the computer response in English. But, an interepter (which converts this into machine code AKA binary) converts it into machine code and the computer understands what to do. See the following: "
   ]
  },
  {
   "cell_type": "code",
   "execution_count": 1,
   "metadata": {},
   "outputs": [
    {
     "name": "stdout",
     "output_type": "stream",
     "text": [
      "Enter the value of X: 5\n"
     ]
    }
   ],
   "source": [
    "x = input(\"Enter the value of X: \")"
   ]
  },
  {
   "cell_type": "code",
   "execution_count": 2,
   "metadata": {},
   "outputs": [
    {
     "data": {
      "text/plain": [
       "'5'"
      ]
     },
     "execution_count": 2,
     "metadata": {},
     "output_type": "execute_result"
    }
   ],
   "source": [
    "x"
   ]
  },
  {
   "cell_type": "markdown",
   "metadata": {},
   "source": [
    "You can see how easy it is to read and understand. The value 5 is stored in the variable x. And this in C is:"
   ]
  },
  {
   "cell_type": "code",
   "execution_count": 3,
   "metadata": {},
   "outputs": [
    {
     "data": {
      "text/plain": [
       "'\\ninclude<stdio.h>\\nint main()\\n{\\nint x;\\nprintf(\"Enter the value of X: \");\\nscanf(\"%d\",&x);\\nreturn 0;\\n}\\n'"
      ]
     },
     "execution_count": 3,
     "metadata": {},
     "output_type": "execute_result"
    }
   ],
   "source": [
    "\"\"\"\n",
    "include<stdio.h>\n",
    "int main()\n",
    "{\n",
    "int x;\n",
    "printf(\"Enter the value of X: \");\n",
    "scanf(\"%d\",&x);\n",
    "return 0;\n",
    "}\n",
    "\"\"\""
   ]
  },
  {
   "cell_type": "markdown",
   "metadata": {},
   "source": [
    "See this? There is memory management, then assigning, and syntax rules. Ah! So much! :("
   ]
  },
  {
   "cell_type": "markdown",
   "metadata": {},
   "source": [
    "So.. you may be thinking that which coding language to choose... well, it depends! If you want to go into artificial intelligence, machine learning or some data anylisis, you can go into Python! Web applications? You can go into Java, Javascript or so. And web development? You can go into \n",
    "1. CSS\n",
    "2. HTML\n",
    "3. Javascript<br>\n",
    "And more!\n",
    "\n",
    "But if you're just a beginner and wanna learn any of them, then Python is for you! See the following:"
   ]
  },
  {
   "cell_type": "code",
   "execution_count": 5,
   "metadata": {},
   "outputs": [
    {
     "name": "stdout",
     "output_type": "stream",
     "text": [
      "Enter a number less than 10: 2\n",
      "You are obidient!\n"
     ]
    }
   ],
   "source": [
    "number = input(\"Enter a number less than 10: \")\n",
    "\n",
    "if int(number) < 10:\n",
    "    print(\"You are obidient!\")"
   ]
  },
  {
   "cell_type": "markdown",
   "metadata": {},
   "source": [
    "See that! Now, you can choose any of the programming languages, there are a lot of things for learning to code on github and so. But, pick one at a time.. be master in that.. and go deep..\n",
    "\n",
    "<br><br>\n",
    "By @anshveersingh"
   ]
  }
 ],
 "metadata": {
  "kernelspec": {
   "display_name": "Python 3",
   "language": "python",
   "name": "python3"
  },
  "language_info": {
   "codemirror_mode": {
    "name": "ipython",
    "version": 3
   },
   "file_extension": ".py",
   "mimetype": "text/x-python",
   "name": "python",
   "nbconvert_exporter": "python",
   "pygments_lexer": "ipython3",
   "version": "3.7.6"
  }
 },
 "nbformat": 4,
 "nbformat_minor": 4
}
