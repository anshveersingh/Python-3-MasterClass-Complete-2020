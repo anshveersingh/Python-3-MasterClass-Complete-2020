{
 "cells": [
  {
   "cell_type": "markdown",
   "metadata": {},
   "source": [
    "# 02 - Installing Python\n",
    "\n",
    "Hi! Welcome! To install Python, you need to see this video -->\n",
    "https://www.bing.com/videos/search?q=How+to+install+IDLE&docid=608028298290987117&mid=4883AB05CB8BA95D73394883AB05CB8BA95D7339&view=detail&FORM=VIRE\n",
    "\n",
    "To install Pycharm, this-->\n",
    "\n",
    "https://www.bing.com/videos/search?q=how+to+install+pycharm&&view=detail&mid=E4C065EE5C5FC2B6D65FE4C065EE5C5FC2B6D65F&&FORM=VRDGAR\n",
    "\n",
    "And Anaconda -->\n",
    "https://www.bing.com/videos/search?q=how+to+install+anaconda&&view=detail&mid=4A1C3AD96726B85624854A1C3AD96726B8562485&&FORM=VRDGAR"
   ]
  },
  {
   "cell_type": "code",
   "execution_count": null,
   "metadata": {},
   "outputs": [],
   "source": []
  }
 ],
 "metadata": {
  "kernelspec": {
   "display_name": "Python 3",
   "language": "python",
   "name": "python3"
  },
  "language_info": {
   "codemirror_mode": {
    "name": "ipython",
    "version": 3
   },
   "file_extension": ".py",
   "mimetype": "text/x-python",
   "name": "python",
   "nbconvert_exporter": "python",
   "pygments_lexer": "ipython3",
   "version": "3.7.6"
  }
 },
 "nbformat": 4,
 "nbformat_minor": 4
}
